{
 "cells": [
  {
   "cell_type": "code",
   "execution_count": 1,
   "metadata": {},
   "outputs": [],
   "source": [
    "# Import libraries\n",
    "\n",
    "import numpy as np\n",
    "import pandas as pd\n",
    "import autogluon as ag\n",
    "from autogluon import TextPrediction as task"
   ]
  },
  {
   "cell_type": "code",
   "execution_count": 2,
   "metadata": {},
   "outputs": [
    {
     "name": "stderr",
     "output_type": "stream",
     "text": [
      "/home/mileta/miniconda3/envs/autogluon/lib/python3.7/site-packages/ipykernel/ipkernel.py:287: DeprecationWarning: `should_run_async` will not call `transform_cell` automatically in the future. Please pass the result to `transformed_cell` argument and any exception that happen during thetransform in `preprocessing_exc_tuple` in IPython 7.17 and above.\n",
      "  and should_run_async(code)\n",
      "Loaded data from: /home/mileta/Downloads/Machinehack/EmboldGithub/train14.csv | Columns = 237 / 237 | Rows = 150000 -> 150000\n",
      "Loaded data from: /home/mileta/Downloads/Machinehack/EmboldGithub/test14.csv | Columns = 236 / 236 | Rows = 30000 -> 30000\n"
     ]
    }
   ],
   "source": [
    "# Load data\n",
    "\n",
    "train = task.Dataset(file_path='/home/mileta/Downloads/Machinehack/EmboldGithub/train14.csv')\n",
    "test = task.Dataset(file_path='/home/mileta/Downloads/Machinehack/EmboldGithub/test14.csv')"
   ]
  },
  {
   "cell_type": "code",
   "execution_count": 3,
   "metadata": {},
   "outputs": [
    {
     "data": {
      "text/html": [
       "<div>\n",
       "<style scoped>\n",
       "    .dataframe tbody tr th:only-of-type {\n",
       "        vertical-align: middle;\n",
       "    }\n",
       "\n",
       "    .dataframe tbody tr th {\n",
       "        vertical-align: top;\n",
       "    }\n",
       "\n",
       "    .dataframe thead th {\n",
       "        text-align: right;\n",
       "    }\n",
       "</style>\n",
       "<table border=\"1\" class=\"dataframe\">\n",
       "  <thead>\n",
       "    <tr style=\"text-align: right;\">\n",
       "      <th></th>\n",
       "      <th>title</th>\n",
       "      <th>body</th>\n",
       "      <th>n_digits</th>\n",
       "      <th>n_exclaims</th>\n",
       "      <th>sent_bing</th>\n",
       "      <th>sent_afinn</th>\n",
       "      <th>label</th>\n",
       "    </tr>\n",
       "  </thead>\n",
       "  <tbody>\n",
       "    <tr>\n",
       "      <th>0</th>\n",
       "      <td>y-zoom piano roll</td>\n",
       "      <td>a y-zoom on the piano roll would be useful.</td>\n",
       "      <td>-0.824767</td>\n",
       "      <td>-0.391366</td>\n",
       "      <td>0.319373</td>\n",
       "      <td>0.205030</td>\n",
       "      <td>1</td>\n",
       "    </tr>\n",
       "    <tr>\n",
       "      <th>1</th>\n",
       "      <td>buggy behavior in selection</td>\n",
       "      <td>! screenshot from 2016-02-23 21 27 40  https:/...</td>\n",
       "      <td>0.966732</td>\n",
       "      <td>1.437065</td>\n",
       "      <td>-0.105647</td>\n",
       "      <td>0.205030</td>\n",
       "      <td>0</td>\n",
       "    </tr>\n",
       "    <tr>\n",
       "      <th>2</th>\n",
       "      <td>auto update feature</td>\n",
       "      <td>hi,\\r \\r great job so far, @saenzramiro ! : \\r...</td>\n",
       "      <td>-0.824767</td>\n",
       "      <td>1.437065</td>\n",
       "      <td>0.529844</td>\n",
       "      <td>0.671222</td>\n",
       "      <td>1</td>\n",
       "    </tr>\n",
       "    <tr>\n",
       "      <th>3</th>\n",
       "      <td>filter out noisy endpoints in logs</td>\n",
       "      <td>i think we should stop logging requests to:\\r ...</td>\n",
       "      <td>-0.824767</td>\n",
       "      <td>-0.391366</td>\n",
       "      <td>-0.105647</td>\n",
       "      <td>-0.267178</td>\n",
       "      <td>1</td>\n",
       "    </tr>\n",
       "    <tr>\n",
       "      <th>4</th>\n",
       "      <td>enable pid on / pid off alarm actions for ardu...</td>\n",
       "      <td>expected behavior\\r alarm actions pid on and p...</td>\n",
       "      <td>1.826267</td>\n",
       "      <td>-0.391366</td>\n",
       "      <td>-0.972501</td>\n",
       "      <td>-1.352466</td>\n",
       "      <td>0</td>\n",
       "    </tr>\n",
       "  </tbody>\n",
       "</table>\n",
       "</div>"
      ],
      "text/plain": [
       "                                               title  \\\n",
       "0                                  y-zoom piano roll   \n",
       "1                        buggy behavior in selection   \n",
       "2                                auto update feature   \n",
       "3                 filter out noisy endpoints in logs   \n",
       "4  enable pid on / pid off alarm actions for ardu...   \n",
       "\n",
       "                                                body  n_digits  n_exclaims  \\\n",
       "0        a y-zoom on the piano roll would be useful. -0.824767   -0.391366   \n",
       "1  ! screenshot from 2016-02-23 21 27 40  https:/...  0.966732    1.437065   \n",
       "2  hi,\\r \\r great job so far, @saenzramiro ! : \\r... -0.824767    1.437065   \n",
       "3  i think we should stop logging requests to:\\r ... -0.824767   -0.391366   \n",
       "4  expected behavior\\r alarm actions pid on and p...  1.826267   -0.391366   \n",
       "\n",
       "   sent_bing  sent_afinn  label  \n",
       "0   0.319373    0.205030      1  \n",
       "1  -0.105647    0.205030      0  \n",
       "2   0.529844    0.671222      1  \n",
       "3  -0.105647   -0.267178      1  \n",
       "4  -0.972501   -1.352466      0  "
      ]
     },
     "execution_count": 3,
     "metadata": {},
     "output_type": "execute_result"
    }
   ],
   "source": [
    "#Define subset of columns\n",
    "\n",
    "train=train[['title', 'body','n_digits','n_exclaims','sent_bing','sent_afinn','label']]\n",
    "test=test[['title', 'body','n_digits','n_exclaims','sent_bing','sent_afinn']]\n",
    "train.head()"
   ]
  },
  {
   "cell_type": "code",
   "execution_count": 4,
   "metadata": {},
   "outputs": [],
   "source": [
    "#Define hyperparameters\n",
    "\n",
    "hyperparameters = {\n",
    "      'models': {\n",
    "            'BertForTextPredictionBasic': {\n",
    "                'search_space': {\n",
    "                    'model.backbone.name': 'google_electra_base'\n",
    "                }\n",
    "             }\n",
    "       }\n",
    "}"
   ]
  },
  {
   "cell_type": "code",
   "execution_count": 5,
   "metadata": {},
   "outputs": [
    {
     "name": "stderr",
     "output_type": "stream",
     "text": [
      "NumPy-shape semantics has been activated in your code. This is required for creating and manipulating scalar and zero-size tensors, which were not supported in MXNet before, as in the official NumPy library. Please DO NOT manually deactivate this semantics while using `mxnet.numpy` and `mxnet.numpy_extension` modules.\n",
      "2020-10-11 07:46:53,741 - root - INFO - All Logs will be saved to ag_models/ag_text_prediction.log\n",
      "2020-10-11 07:46:54,155 - root - INFO - Train Dataset:\n",
      "2020-10-11 07:46:54,155 - root - INFO - Columns:\n",
      "\n",
      "- Text(\n",
      "   name=\"title\"\n",
      "   #total/missing=145000/0\n",
      "   length, min/avg/max=5/45.34/295\n",
      ")\n",
      "- Text(\n",
      "   name=\"body\"\n",
      "   #total/missing=145000/0\n",
      "   length, min/avg/max=10/558.61/126372\n",
      ")\n",
      "- Numerical(\n",
      "   name=\"n_digits\"\n",
      "   #total/missing=145000/0\n",
      "   shape=()\n",
      ")\n",
      "- Numerical(\n",
      "   name=\"n_exclaims\"\n",
      "   #total/missing=145000/0\n",
      "   shape=()\n",
      ")\n",
      "- Numerical(\n",
      "   name=\"sent_bing\"\n",
      "   #total/missing=145000/0\n",
      "   shape=()\n",
      ")\n",
      "- Numerical(\n",
      "   name=\"sent_afinn\"\n",
      "   #total/missing=145000/0\n",
      "   shape=()\n",
      ")\n",
      "- Categorical(\n",
      "   name=\"label\"\n",
      "   #total/missing=145000/0\n",
      "   num_class (total/non_special)=3/3\n",
      "   categories=[0, 1, 2]\n",
      "   freq=[64649, 66769, 13582]\n",
      ")\n",
      "\n",
      "\n",
      "2020-10-11 07:46:54,156 - root - INFO - Tuning Dataset:\n",
      "2020-10-11 07:46:54,156 - root - INFO - Columns:\n",
      "\n",
      "- Text(\n",
      "   name=\"title\"\n",
      "   #total/missing=5000/0\n",
      "   length, min/avg/max=10/45.42/175\n",
      ")\n",
      "- Text(\n",
      "   name=\"body\"\n",
      "   #total/missing=5000/0\n",
      "   length, min/avg/max=20/547.19/11338\n",
      ")\n",
      "- Numerical(\n",
      "   name=\"n_digits\"\n",
      "   #total/missing=5000/0\n",
      "   shape=()\n",
      ")\n",
      "- Numerical(\n",
      "   name=\"n_exclaims\"\n",
      "   #total/missing=5000/0\n",
      "   shape=()\n",
      ")\n",
      "- Numerical(\n",
      "   name=\"sent_bing\"\n",
      "   #total/missing=5000/0\n",
      "   shape=()\n",
      ")\n",
      "- Numerical(\n",
      "   name=\"sent_afinn\"\n",
      "   #total/missing=5000/0\n",
      "   shape=()\n",
      ")\n",
      "- Categorical(\n",
      "   name=\"label\"\n",
      "   #total/missing=5000/0\n",
      "   num_class (total/non_special)=3/3\n",
      "   categories=[0, 1, 2]\n",
      "   freq=[2178, 2337, 485]\n",
      ")\n",
      "\n",
      "\n",
      "2020-10-11 07:46:54,157 - root - INFO - Label columns=['label'], Feature columns=['title', 'body', 'n_digits', 'n_exclaims', 'sent_bing', 'sent_afinn'], Problem types=['classification'], Label shapes=[3]\n",
      "2020-10-11 07:46:54,158 - root - INFO - Eval Metric=acc, Stop Metric=acc, Log Metrics=['acc', 'nll']\n"
     ]
    },
    {
     "data": {
      "application/vnd.jupyter.widget-view+json": {
       "model_id": "1bd6f60268c74f3ba84a8a1f58ff5448",
       "version_major": 2,
       "version_minor": 0
      },
      "text/plain": [
       "HBox(children=(FloatProgress(value=0.0, max=4.0), HTML(value='')))"
      ]
     },
     "metadata": {},
     "output_type": "display_data"
    },
    {
     "name": "stderr",
     "output_type": "stream",
     "text": [
      "/home/mileta/miniconda3/envs/autogluon/lib/python3.7/site-packages/distributed/worker.py:3382: UserWarning: Large object of size 98.90 MB detected in task graph: \n",
      "  (<function args.<locals>.registered_func.<locals>. ... Reporter}, [0])\n",
      "Consider scattering large objects ahead of time\n",
      "with client.scatter to reduce scheduler burden and \n",
      "keep data on workers\n",
      "\n",
      "    future = client.submit(func, big_data)    # bad\n",
      "\n",
      "    big_future = client.scatter(big_data)     # good\n",
      "    future = client.submit(func, big_future)  # good\n",
      "  % (format_bytes(len(b)), s)\n",
      " 93%|█████████▎| 16797/18124 [5:20:42<25:20,  1.15s/it]   \n",
      "100%|██████████| 18124/18124 [5:47:29<00:00,  1.15s/it]   \n",
      " 88%|████████▊ | 15889/18124 [5:04:32<42:50,  1.15s/it]   \n"
     ]
    },
    {
     "name": "stdout",
     "output_type": "stream",
     "text": [
      "\n"
     ]
    },
    {
     "name": "stderr",
     "output_type": "stream",
     "text": [
      "100%|██████████| 18124/18124 [5:45:32<00:00,  1.14s/it]   \n"
     ]
    },
    {
     "data": {
      "image/png": "[encoded data removed]",
      "text/plain": [
       "<Figure size 432x288 with 1 Axes>"
      ]
     },
     "metadata": {
      "needs_background": "light"
     },
     "output_type": "display_data"
    }
   ],
   "source": [
    "#Get the best model\n",
    "\n",
    "predictor_label = task.fit(train, label='label', \n",
    "                           #time_limits=3600, \n",
    "                           feature_columns=['title', 'body','n_digits','n_exclaims','sent_bing','sent_afinn'],\n",
    "                           ngpus_per_trial=1,\n",
    "                           output_directory='ag_models',\n",
    "                           hyperparameters=hyperparameters)"
   ]
  },
  {
   "cell_type": "code",
   "execution_count": 6,
   "metadata": {},
   "outputs": [
    {
     "name": "stderr",
     "output_type": "stream",
     "text": [
      "/home/mileta/miniconda3/envs/autogluon/lib/python3.7/site-packages/ipykernel/ipkernel.py:287: DeprecationWarning: `should_run_async` will not call `transform_cell` automatically in the future. Please pass the result to `transformed_cell` argument and any exception that happen during thetransform in `preprocessing_exc_tuple` in IPython 7.17 and above.\n",
      "  and should_run_async(code)\n"
     ]
    },
    {
     "data": {
      "text/plain": [
       "array([2, 0, 0, ..., 1, 0, 2])"
      ]
     },
     "execution_count": 6,
     "metadata": {},
     "output_type": "execute_result"
    }
   ],
   "source": [
    "# Make predictions\n",
    "\n",
    "predictions = predictor_label.predict(test)\n",
    "predictions"
   ]
  },
  {
   "cell_type": "code",
   "execution_count": 7,
   "metadata": {},
   "outputs": [
    {
     "data": {
      "text/html": [
       "<div>\n",
       "<style scoped>\n",
       "    .dataframe tbody tr th:only-of-type {\n",
       "        vertical-align: middle;\n",
       "    }\n",
       "\n",
       "    .dataframe tbody tr th {\n",
       "        vertical-align: top;\n",
       "    }\n",
       "\n",
       "    .dataframe thead th {\n",
       "        text-align: right;\n",
       "    }\n",
       "</style>\n",
       "<table border=\"1\" class=\"dataframe\">\n",
       "  <thead>\n",
       "    <tr style=\"text-align: right;\">\n",
       "      <th></th>\n",
       "      <th>label</th>\n",
       "    </tr>\n",
       "  </thead>\n",
       "  <tbody>\n",
       "    <tr>\n",
       "      <th>0</th>\n",
       "      <td>2</td>\n",
       "    </tr>\n",
       "    <tr>\n",
       "      <th>1</th>\n",
       "      <td>0</td>\n",
       "    </tr>\n",
       "    <tr>\n",
       "      <th>2</th>\n",
       "      <td>0</td>\n",
       "    </tr>\n",
       "    <tr>\n",
       "      <th>3</th>\n",
       "      <td>0</td>\n",
       "    </tr>\n",
       "    <tr>\n",
       "      <th>4</th>\n",
       "      <td>1</td>\n",
       "    </tr>\n",
       "    <tr>\n",
       "      <th>...</th>\n",
       "      <td>...</td>\n",
       "    </tr>\n",
       "    <tr>\n",
       "      <th>29995</th>\n",
       "      <td>0</td>\n",
       "    </tr>\n",
       "    <tr>\n",
       "      <th>29996</th>\n",
       "      <td>0</td>\n",
       "    </tr>\n",
       "    <tr>\n",
       "      <th>29997</th>\n",
       "      <td>1</td>\n",
       "    </tr>\n",
       "    <tr>\n",
       "      <th>29998</th>\n",
       "      <td>0</td>\n",
       "    </tr>\n",
       "    <tr>\n",
       "      <th>29999</th>\n",
       "      <td>2</td>\n",
       "    </tr>\n",
       "  </tbody>\n",
       "</table>\n",
       "<p>30000 rows × 1 columns</p>\n",
       "</div>"
      ],
      "text/plain": [
       "       label\n",
       "0          2\n",
       "1          0\n",
       "2          0\n",
       "3          0\n",
       "4          1\n",
       "...      ...\n",
       "29995      0\n",
       "29996      0\n",
       "29997      1\n",
       "29998      0\n",
       "29999      2\n",
       "\n",
       "[30000 rows x 1 columns]"
      ]
     },
     "execution_count": 7,
     "metadata": {},
     "output_type": "execute_result"
    }
   ],
   "source": [
    "# Prepare submission\n",
    "\n",
    "submission = pd.read_csv(\"sample submission.csv\")\n",
    "submission['label'] = predictions\n",
    "submission.to_csv('sub14.csv', index=False)\n",
    "submission"
   ]
  }
 ],
 "metadata": {
  "kernelspec": {
   "display_name": "Python 3",
   "language": "python",
   "name": "python3"
  },
  "language_info": {
   "codemirror_mode": {
    "name": "ipython",
    "version": 3
   },
   "file_extension": ".py",
   "mimetype": "text/x-python",
   "name": "python",
   "nbconvert_exporter": "python",
   "pygments_lexer": "ipython3",
   "version": "3.5.2"
  }
 },
 "nbformat": 4,
 "nbformat_minor": 4
}
